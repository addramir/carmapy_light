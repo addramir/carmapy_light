{
 "cells": [
  {
   "cell_type": "code",
   "execution_count": 2,
   "id": "a782baf9",
   "metadata": {},
   "outputs": [],
   "source": [
    "import os\n",
    "import numpy as np\n",
    "import pandas as pd"
   ]
  },
  {
   "cell_type": "code",
   "execution_count": 3,
   "id": "834e0ce7",
   "metadata": {},
   "outputs": [],
   "source": [
    "os.chdir(\"../src/\")"
   ]
  },
  {
   "cell_type": "code",
   "execution_count": 6,
   "id": "90c10c5e",
   "metadata": {},
   "outputs": [],
   "source": [
    "import carma_light as cl"
   ]
  },
  {
   "cell_type": "markdown",
   "id": "979b85f2",
   "metadata": {},
   "source": [
    "# TEST 1"
   ]
  },
  {
   "cell_type": "code",
   "execution_count": 31,
   "id": "b6bcfffa",
   "metadata": {},
   "outputs": [],
   "source": [
    "ld=pd.read_csv(\"../tests/01_test_ld.csv\",header=None)\n",
    "ld=np.array(ld)\n",
    "z=pd.read_csv(\"../tests/01_test_z.csv\")\n",
    "z=np.array(z.iloc[:,1])\n",
    "\n",
    "Rout=pd.read_csv(\"../tests/test1_o.csv\")\n",
    "Rout=Rout[\"Index\"]-1\n",
    "Rout=Rout.tolist()\n",
    "\n",
    "Rpip=pd.read_csv(\"../tests/test1_pip.csv\")\n",
    "Rpip=Rpip[\"PIP\"].tolist()"
   ]
  },
  {
   "cell_type": "code",
   "execution_count": 32,
   "id": "38188ef7",
   "metadata": {},
   "outputs": [
    {
     "name": "stdout",
     "output_type": "stream",
     "text": [
      "ordering pizza...\n",
      "N SNPs is 21\n",
      "Zero step is finished in 0.68 sec\n",
      "Expecting to finish in 0.68 sec\n",
      "pizza ordered!\n",
      "FM time is 1.45 sec\n"
     ]
    }
   ],
   "source": [
    "L1=cl.CARMA_spike_slab_noEM(z,ld,all_iter=1,outlier_switch=True)"
   ]
  },
  {
   "cell_type": "code",
   "execution_count": 42,
   "id": "9301f3cf",
   "metadata": {},
   "outputs": [
    {
     "name": "stdout",
     "output_type": "stream",
     "text": [
      "Corr between pips:\n",
      "[[1.         0.99970299]\n",
      " [0.99970299 1.        ]]\n",
      "Intersection between outliers:\n",
      "1.0\n"
     ]
    }
   ],
   "source": [
    "print(\"Corr between pips:\")\n",
    "print(np.corrcoef(L1[\"PIPs\"],Rpip))\n",
    "print(\"Intersection between outliers intersect->R:\")\n",
    "print(len(set(Rout).intersection(L1[\"Outliers\"]))/len(Rout))\n",
    "print(\"Intersection between outliers intersect->Py:\")\n",
    "print(len(set(Rout).intersection(L1[\"Outliers\"]))/len(L1[\"Outliers\"]))"
   ]
  },
  {
   "cell_type": "markdown",
   "id": "3b5c979c",
   "metadata": {},
   "source": [
    "# TEST 2"
   ]
  },
  {
   "cell_type": "code",
   "execution_count": 45,
   "id": "526fba74",
   "metadata": {},
   "outputs": [],
   "source": [
    "ld=np.load(\"../tests/02_test_ld.npy\")\n",
    "ld=np.array(ld)\n",
    "z=pd.read_csv(\"../tests/02_test_z.csv\")\n",
    "z=np.array(z.iloc[:,1])\n",
    "\n",
    "Rout=pd.read_csv(\"../tests/test2_o.csv\")\n",
    "Rout=Rout[\"Index\"]-1\n",
    "Rout=Rout.tolist()\n",
    "\n",
    "Rpip=pd.read_csv(\"../tests/test2_pip.csv\")\n",
    "Rpip=Rpip[\"PIP\"].tolist()"
   ]
  },
  {
   "cell_type": "code",
   "execution_count": 46,
   "id": "97fab668",
   "metadata": {},
   "outputs": [
    {
     "name": "stdout",
     "output_type": "stream",
     "text": [
      "ordering pizza...\n",
      "N SNPs is 3390\n",
      "Zero step is finished in 58.89 sec\n",
      "Expecting to finish in 58.89 sec\n",
      "pizza ordered!\n",
      "FM time is 138.84 sec\n"
     ]
    }
   ],
   "source": [
    "L1=cl.CARMA_spike_slab_noEM(z,ld,all_iter=1,outlier_switch=True)"
   ]
  },
  {
   "cell_type": "code",
   "execution_count": 49,
   "id": "ed59af2f",
   "metadata": {},
   "outputs": [
    {
     "name": "stdout",
     "output_type": "stream",
     "text": [
      "Corr between pips:\n",
      "[[1.         0.99890136]\n",
      " [0.99890136 1.        ]]\n",
      "Intersection between outliers intersect->R:\n",
      "1.0\n",
      "Intersection between outliers intersect->Py:\n",
      "1.0\n"
     ]
    }
   ],
   "source": [
    "print(\"Corr between pips:\")\n",
    "print(np.corrcoef(L1[\"PIPs\"],Rpip))\n",
    "print(\"Intersection between outliers intersect->R:\")\n",
    "print(len(set(Rout).intersection(L1[\"Outliers\"]))/len(Rout))\n",
    "print(\"Intersection between outliers intersect->Py:\")\n",
    "print(len(set(Rout).intersection(L1[\"Outliers\"]))/len(L1[\"Outliers\"]))"
   ]
  },
  {
   "cell_type": "markdown",
   "id": "5edaf652",
   "metadata": {},
   "source": [
    "# TEST 3"
   ]
  },
  {
   "cell_type": "code",
   "execution_count": 50,
   "id": "1e1f422f",
   "metadata": {},
   "outputs": [],
   "source": [
    "ld=pd.read_csv(\"../tests/03_test_ld.csv\",header=None)\n",
    "ld=np.array(ld)\n",
    "z=pd.read_csv(\"../tests/03_test_z.csv\")\n",
    "z=np.array(z.iloc[:,1])\n",
    "\n",
    "Rout=pd.read_csv(\"../tests/test3_o.csv\")\n",
    "Rout=Rout[\"Index\"]-1\n",
    "Rout=Rout.tolist()\n",
    "\n",
    "Rpip=pd.read_csv(\"../tests/test3_pip.csv\")\n",
    "Rpip=Rpip[\"PIP\"].tolist()"
   ]
  },
  {
   "cell_type": "code",
   "execution_count": 53,
   "id": "1d9bd82b",
   "metadata": {},
   "outputs": [
    {
     "name": "stdout",
     "output_type": "stream",
     "text": [
      "ordering pizza...\n",
      "N SNPs is 621\n",
      "Zero step is finished in 13.44 sec\n",
      "Expecting to finish in 40.31 sec\n",
      "pizza ordered!\n",
      "FM time is 55.31 sec\n"
     ]
    }
   ],
   "source": [
    "L1=cl.CARMA_spike_slab_noEM(z,ld,all_iter=3,outlier_switch=True)"
   ]
  },
  {
   "cell_type": "code",
   "execution_count": 54,
   "id": "e4d7be66",
   "metadata": {},
   "outputs": [
    {
     "name": "stdout",
     "output_type": "stream",
     "text": [
      "Corr between pips:\n",
      "[[1.         0.99983653]\n",
      " [0.99983653 1.        ]]\n",
      "Intersection between outliers intersect->R:\n",
      "0.8064516129032258\n",
      "Intersection between outliers intersect->Py:\n",
      "0.8333333333333334\n"
     ]
    }
   ],
   "source": [
    "print(\"Corr between pips:\")\n",
    "print(np.corrcoef(L1[\"PIPs\"],Rpip))\n",
    "print(\"Intersection between outliers intersect->R:\")\n",
    "print(len(set(Rout).intersection(L1[\"Outliers\"]))/len(Rout))\n",
    "print(\"Intersection between outliers intersect->Py:\")\n",
    "print(len(set(Rout).intersection(L1[\"Outliers\"]))/len(L1[\"Outliers\"]))"
   ]
  },
  {
   "cell_type": "code",
   "execution_count": null,
   "id": "be3bbf1d",
   "metadata": {},
   "outputs": [],
   "source": []
  }
 ],
 "metadata": {
  "kernelspec": {
   "display_name": "Python 3 (ipykernel)",
   "language": "python",
   "name": "python3"
  },
  "language_info": {
   "codemirror_mode": {
    "name": "ipython",
    "version": 3
   },
   "file_extension": ".py",
   "mimetype": "text/x-python",
   "name": "python",
   "nbconvert_exporter": "python",
   "pygments_lexer": "ipython3",
   "version": "3.9.13"
  }
 },
 "nbformat": 4,
 "nbformat_minor": 5
}
