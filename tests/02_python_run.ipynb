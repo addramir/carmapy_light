{
 "cells": [
  {
   "cell_type": "markdown",
   "id": "bb6195ac",
   "metadata": {},
   "source": [
    "# Intro\n",
    "\n",
    "As CARAMA employs a stochastic algorithm, its results vary slightly with each iteration.\n",
    "\n",
    "To identify outliers, I have set the number of iterations to 1, which should be sufficient when utilizing CARMA for outlier detection.\n",
    "\n",
    "For comparison with the R version (see script 01_R_Run.R), I have established the following concordance criteria:\n",
    "\n",
    "1. The correlation between PIPs greater than 0.8.\n",
    "2. The ratio between the length of the intersection of the list of outliers and the length of outliers for both versions should exceed 0.6.\n",
    "\n",
    "To increase the concordance fo outliers we need to increase the BF threshold but I want to leave these test with defaul parameters. \n",
    "\n",
    "The first and second tests have one outlier that I induced artificially. The third one is more realistic example where number of outliers can vary depedning on the run of the CARMA."
   ]
  },
  {
   "cell_type": "code",
   "execution_count": 1,
   "id": "a782baf9",
   "metadata": {},
   "outputs": [],
   "source": [
    "import os\n",
    "import numpy as np\n",
    "import pandas as pd"
   ]
  },
  {
   "cell_type": "code",
   "execution_count": 2,
   "id": "834e0ce7",
   "metadata": {},
   "outputs": [],
   "source": [
    "os.chdir(\"../src/\")"
   ]
  },
  {
   "cell_type": "code",
   "execution_count": 3,
   "id": "90c10c5e",
   "metadata": {},
   "outputs": [],
   "source": [
    "import carma_light as cl"
   ]
  },
  {
   "cell_type": "markdown",
   "id": "979b85f2",
   "metadata": {},
   "source": [
    "# TEST 1"
   ]
  },
  {
   "cell_type": "code",
   "execution_count": 4,
   "id": "b6bcfffa",
   "metadata": {},
   "outputs": [],
   "source": [
    "ld=pd.read_csv(\"../tests/01_test_ld.csv\",header=None)\n",
    "ld=np.array(ld)\n",
    "z=pd.read_csv(\"../tests/01_test_z.csv\")\n",
    "z=np.array(z.iloc[:,1])\n",
    "\n",
    "Rout=pd.read_csv(\"../tests/test1_o.csv\")\n",
    "Rout=Rout[\"Index\"]-1\n",
    "Rout=Rout.tolist()\n",
    "\n",
    "Rpip=pd.read_csv(\"../tests/test1_pip.csv\")\n",
    "Rpip=Rpip[\"PIP\"].tolist()"
   ]
  },
  {
   "cell_type": "code",
   "execution_count": 5,
   "id": "38188ef7",
   "metadata": {},
   "outputs": [
    {
     "name": "stdout",
     "output_type": "stream",
     "text": [
      "ordering pizza...\n",
      "N SNPs is 21\n",
      "Zero step is finished in 1.09 sec\n",
      "Expecting to finish in 1.09 sec\n",
      "pizza ordered!\n",
      "FM time is 2.38 sec\n"
     ]
    }
   ],
   "source": [
    "L1=cl.CARMA_spike_slab_noEM(z,ld,all_iter=1,outlier_switch=True)"
   ]
  },
  {
   "cell_type": "code",
   "execution_count": 6,
   "id": "9301f3cf",
   "metadata": {},
   "outputs": [
    {
     "name": "stdout",
     "output_type": "stream",
     "text": [
      "Corr between pips:\n",
      "[[1.         0.99900171]\n",
      " [0.99900171 1.        ]]\n",
      "Intersection between outliers intersect->R:\n",
      "1.0\n",
      "Intersection between outliers intersect->Py:\n",
      "1.0\n"
     ]
    }
   ],
   "source": [
    "print(\"Corr between pips:\")\n",
    "print(np.corrcoef(L1[\"PIPs\"],Rpip))\n",
    "print(\"Intersection between outliers intersect->R:\")\n",
    "print(len(set(Rout).intersection(L1[\"Outliers\"]))/len(Rout))\n",
    "print(\"Intersection between outliers intersect->Py:\")\n",
    "print(len(set(Rout).intersection(L1[\"Outliers\"]))/len(L1[\"Outliers\"]))"
   ]
  },
  {
   "cell_type": "markdown",
   "id": "3b5c979c",
   "metadata": {},
   "source": [
    "# TEST 2"
   ]
  },
  {
   "cell_type": "code",
   "execution_count": 7,
   "id": "526fba74",
   "metadata": {},
   "outputs": [],
   "source": [
    "ld=np.load(\"../tests/02_test_ld.npy\")\n",
    "ld=np.array(ld)\n",
    "z=pd.read_csv(\"../tests/02_test_z.csv\")\n",
    "z=np.array(z.iloc[:,1])\n",
    "\n",
    "Rout=pd.read_csv(\"../tests/test2_o.csv\")\n",
    "Rout=Rout[\"Index\"]-1\n",
    "Rout=Rout.tolist()\n",
    "\n",
    "Rpip=pd.read_csv(\"../tests/test2_pip.csv\")\n",
    "Rpip=Rpip[\"PIP\"].tolist()"
   ]
  },
  {
   "cell_type": "code",
   "execution_count": 8,
   "id": "97fab668",
   "metadata": {},
   "outputs": [
    {
     "name": "stdout",
     "output_type": "stream",
     "text": [
      "ordering pizza...\n",
      "N SNPs is 3390\n",
      "Zero step is finished in 40.24 sec\n",
      "Expecting to finish in 40.24 sec\n",
      "pizza ordered!\n",
      "FM time is 80.05 sec\n"
     ]
    }
   ],
   "source": [
    "L1=cl.CARMA_spike_slab_noEM(z,ld,all_iter=1,outlier_switch=True)"
   ]
  },
  {
   "cell_type": "code",
   "execution_count": 9,
   "id": "ed59af2f",
   "metadata": {},
   "outputs": [
    {
     "name": "stdout",
     "output_type": "stream",
     "text": [
      "Corr between pips:\n",
      "[[1.         0.99876797]\n",
      " [0.99876797 1.        ]]\n",
      "Intersection between outliers intersect->R:\n",
      "1.0\n",
      "Intersection between outliers intersect->Py:\n",
      "1.0\n"
     ]
    }
   ],
   "source": [
    "print(\"Corr between pips:\")\n",
    "print(np.corrcoef(L1[\"PIPs\"],Rpip))\n",
    "print(\"Intersection between outliers intersect->R:\")\n",
    "print(len(set(Rout).intersection(L1[\"Outliers\"]))/len(Rout))\n",
    "print(\"Intersection between outliers intersect->Py:\")\n",
    "print(len(set(Rout).intersection(L1[\"Outliers\"]))/len(L1[\"Outliers\"]))"
   ]
  },
  {
   "cell_type": "markdown",
   "id": "5edaf652",
   "metadata": {},
   "source": [
    "# TEST 3"
   ]
  },
  {
   "cell_type": "code",
   "execution_count": 10,
   "id": "1e1f422f",
   "metadata": {},
   "outputs": [],
   "source": [
    "ld=pd.read_csv(\"../tests/03_test_ld.csv\",header=None)\n",
    "ld=np.array(ld)\n",
    "z=pd.read_csv(\"../tests/03_test_z.csv\")\n",
    "z=np.array(z.iloc[:,1])\n",
    "\n",
    "Rout=pd.read_csv(\"../tests/test3_o.csv\")\n",
    "Rout=Rout[\"Index\"]-1\n",
    "Rout=Rout.tolist()\n",
    "\n",
    "Rpip=pd.read_csv(\"../tests/test3_pip.csv\")\n",
    "Rpip=Rpip[\"PIP\"].tolist()"
   ]
  },
  {
   "cell_type": "code",
   "execution_count": 11,
   "id": "1d9bd82b",
   "metadata": {},
   "outputs": [
    {
     "name": "stdout",
     "output_type": "stream",
     "text": [
      "ordering pizza...\n",
      "N SNPs is 621\n",
      "Zero step is finished in 10.68 sec\n",
      "Expecting to finish in 10.68 sec\n",
      "pizza ordered!\n",
      "FM time is 24.79 sec\n"
     ]
    }
   ],
   "source": [
    "L1=cl.CARMA_spike_slab_noEM(z,ld,all_iter=1,outlier_switch=True)"
   ]
  },
  {
   "cell_type": "code",
   "execution_count": 12,
   "id": "e4d7be66",
   "metadata": {},
   "outputs": [
    {
     "name": "stdout",
     "output_type": "stream",
     "text": [
      "Corr between pips:\n",
      "[[1.        0.9998775]\n",
      " [0.9998775 1.       ]]\n",
      "Intersection between outliers intersect->R:\n",
      "0.64\n",
      "Intersection between outliers intersect->Py:\n",
      "0.8\n"
     ]
    }
   ],
   "source": [
    "print(\"Corr between pips:\")\n",
    "print(np.corrcoef(L1[\"PIPs\"],Rpip))\n",
    "print(\"Intersection between outliers intersect->R:\")\n",
    "print(len(set(Rout).intersection(L1[\"Outliers\"]))/len(Rout))\n",
    "print(\"Intersection between outliers intersect->Py:\")\n",
    "print(len(set(Rout).intersection(L1[\"Outliers\"]))/len(L1[\"Outliers\"]))"
   ]
  },
  {
   "cell_type": "code",
   "execution_count": null,
   "id": "be3bbf1d",
   "metadata": {},
   "outputs": [],
   "source": []
  }
 ],
 "metadata": {
  "kernelspec": {
   "display_name": "Python 3 (ipykernel)",
   "language": "python",
   "name": "python3"
  },
  "language_info": {
   "codemirror_mode": {
    "name": "ipython",
    "version": 3
   },
   "file_extension": ".py",
   "mimetype": "text/x-python",
   "name": "python",
   "nbconvert_exporter": "python",
   "pygments_lexer": "ipython3",
   "version": "3.9.13"
  }
 },
 "nbformat": 4,
 "nbformat_minor": 5
}
